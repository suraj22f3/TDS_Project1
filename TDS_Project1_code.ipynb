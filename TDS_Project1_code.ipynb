{
  "nbformat": 4,
  "nbformat_minor": 0,
  "metadata": {
    "colab": {
      "provenance": [],
      "authorship_tag": "ABX9TyNuGaH07cpJl58Ge4TSsdfx"
    },
    "kernelspec": {
      "name": "python3",
      "display_name": "Python 3"
    },
    "language_info": {
      "name": "python"
    }
  },
  "cells": [
    {
      "cell_type": "code",
      "execution_count": null,
      "metadata": {
        "colab": {
          "base_uri": "https://localhost:8080/"
        },
        "collapsed": true,
        "id": "2d2upkKNb6F5",
        "outputId": "c07199d6-b6ad-4ea5-8e1f-645d9cbbd469"
      },
      "outputs": [
        {
          "output_type": "stream",
          "name": "stdout",
          "text": [
            "Data scraping and file creation completed.\n"
          ]
        },
        {
          "output_type": "execute_result",
          "data": {
            "text/plain": [
              "(432, 11)"
            ]
          },
          "metadata": {},
          "execution_count": 42
        }
      ],
      "source": [
        "import requests\n",
        "import pandas as pd\n",
        "from google.colab import userdata\n",
        "\n",
        "api_token=userdata.get('New_token')\n",
        "\n",
        "# GitHub API URL\n",
        "base_url = 'https://api.github.com'\n",
        "headers = {'Authorization': f'token {api_token}'}\n",
        "\n",
        "# Get users from Chennai with more than 50 followers\n",
        "users_data=[]\n",
        "page = 1\n",
        "while True:\n",
        "    users_url = f\"{base_url}/search/users?q=location:Chennai+followers:>=50&page={page}&per_page=100\"\n",
        "    response = requests.get(users_url, headers=headers)\n",
        "    data = response.json()\n",
        "    if 'items' not in data or not data['items']:\n",
        "        break\n",
        "    users_data.extend(data['items'])\n",
        "    page += 1\n",
        "\n",
        "# Extract user info\n",
        "users = []\n",
        "for user in users_data:\n",
        "    user_detail_url = user['url']\n",
        "    user_response = requests.get(user_detail_url, headers=headers)\n",
        "    user_info = user_response.json()\n",
        "\n",
        "    # Clean up company name\n",
        "    company = user_info.get('company', '')\n",
        "    if company:\n",
        "        company = company.strip().lstrip('@').upper()\n",
        "\n",
        "    users.append({\n",
        "        'login': user_info['login'],\n",
        "        'name': user_info['name'],\n",
        "        'company': company,\n",
        "        'location': user_info['location'],\n",
        "        'email': user_info['email'],\n",
        "        'hireable': 'true' if user_info['hireable'] else 'false',\n",
        "        'bio': user_info['bio'],\n",
        "        'public_repos': user_info['public_repos'],\n",
        "        'followers': user_info['followers'],\n",
        "        'following': user_info['following'],\n",
        "        'created_at': user_info['created_at']\n",
        "        })\n",
        "\n",
        "# Convert to DataFrame and save as CSV\n",
        "users_df = pd.DataFrame(users)\n",
        "users_df.to_csv('users.csv', index=False)\n",
        "\n",
        "# Fetch repositories for each user\n",
        "repos = []\n",
        "for user in users:\n",
        "    page = 1\n",
        "    user_repos=[]\n",
        "    while True:\n",
        "        repos_url = f\"{base_url}/users/{user['login']}/repos?sort=pushed&direction=desc&page={page}&per_page=100\"\n",
        "        # repos_url = f\"{base_url}/users/{user['login']}/repos?per_page=100\"\n",
        "        repos_response = requests.get(repos_url, headers=headers)\n",
        "        repos_data = repos_response.json()\n",
        "        if not repos_data or len(user_repos) >= 500:\n",
        "            break\n",
        "        for repo in repos_data:\n",
        "            if len(user_repos) >= 500:\n",
        "                break\n",
        "        # for repo in repos_data:\n",
        "            user_repos.append({\n",
        "                'login': user['login'],\n",
        "                'full_name': repo['full_name'],\n",
        "                'created_at': repo['created_at'],\n",
        "                'stargazers_count': repo['stargazers_count'],\n",
        "                'watchers_count': repo['watchers_count'],\n",
        "                'language': repo['language'],\n",
        "                'has_projects': 'true' if repo['has_projects'] else 'false',\n",
        "                'has_wiki': 'true' if repo['has_wiki'] else 'false',\n",
        "                'license_name': repo['license']['name'] if repo['license'] else None\n",
        "            })\n",
        "        page+=1\n",
        "    repos.extend(user_repos)\n",
        "\n",
        "# Convert to DataFrame and save as CSV\n",
        "repos_df = pd.DataFrame(repos)\n",
        "repos_df.to_csv('repositories.csv', index=False)\n",
        "\n",
        "\n",
        "\n",
        "print(\"Data scraping and file creation completed.\")\n",
        "users_df.shape"
      ]
    },
    {
      "cell_type": "code",
      "source": [
        "users_df.columns"
      ],
      "metadata": {
        "colab": {
          "base_uri": "https://localhost:8080/"
        },
        "id": "UywHVTZAm3YE",
        "outputId": "95743281-f187-4bfc-bf48-e0f9f1d8db58",
        "collapsed": true
      },
      "execution_count": 4,
      "outputs": [
        {
          "output_type": "execute_result",
          "data": {
            "text/plain": [
              "Index(['login', 'name', 'company', 'location', 'email', 'hireable', 'bio',\n",
              "       'public_repos', 'followers', 'following', 'created_at'],\n",
              "      dtype='object')"
            ]
          },
          "metadata": {},
          "execution_count": 4
        }
      ]
    },
    {
      "cell_type": "code",
      "source": [
        "repos_df.shape,repos_df.columns"
      ],
      "metadata": {
        "colab": {
          "base_uri": "https://localhost:8080/"
        },
        "id": "SjyKZnyloI0e",
        "outputId": "bd639111-cc79-44f5-d947-b2d68f4beda5"
      },
      "execution_count": 5,
      "outputs": [
        {
          "output_type": "execute_result",
          "data": {
            "text/plain": [
              "((26759, 9),\n",
              " Index(['login', 'full_name', 'created_at', 'stargazers_count',\n",
              "        'watchers_count', 'language', 'has_projects', 'has_wiki',\n",
              "        'license_name'],\n",
              "       dtype='object'))"
            ]
          },
          "metadata": {},
          "execution_count": 5
        }
      ]
    },
    {
      "cell_type": "code",
      "source": [
        "#Q1) Who are the top 5 users in Chennai with the highest number of followers?\n",
        "# List their login in order, comma-separated.\n",
        "\n",
        "top_5_followed =users_df.sort_values(by=['followers'],ascending=False).head(5)\n",
        "\n",
        "top_5_login=','.join(top_5_followed['login'])\n",
        "top_5_login"
      ],
      "metadata": {
        "colab": {
          "base_uri": "https://localhost:8080/",
          "height": 35
        },
        "id": "i4n9dKNEi7J5",
        "outputId": "ac34fed2-d91f-4ccb-a4e8-1d1af90eb995"
      },
      "execution_count": 6,
      "outputs": [
        {
          "output_type": "execute_result",
          "data": {
            "text/plain": [
              "'Premalatha-success,anitaa1990,codewithMUHILAN,sygops,Spikeysanju'"
            ],
            "application/vnd.google.colaboratory.intrinsic+json": {
              "type": "string"
            }
          },
          "metadata": {},
          "execution_count": 6
        }
      ]
    },
    {
      "cell_type": "code",
      "source": [
        "#Q2) Who are the 5 earliest registered GitHub users in Chennai?\n",
        "# List their login in ascending order of created_at, comma-separated.\n",
        "\n",
        "early_5 = users_df.sort_values(by='created_at')\n",
        "\n",
        "early_5_login=','.join(early_5.head(5)['login'])\n",
        "early_5_login"
      ],
      "metadata": {
        "colab": {
          "base_uri": "https://localhost:8080/",
          "height": 35
        },
        "id": "t5Iqom5flill",
        "outputId": "17ec3950-df93-45c5-ffab-1faaac29b2fc"
      },
      "execution_count": 7,
      "outputs": [
        {
          "output_type": "execute_result",
          "data": {
            "text/plain": [
              "'cnu,railsfactory,sudhirj,ravijaya,badri'"
            ],
            "application/vnd.google.colaboratory.intrinsic+json": {
              "type": "string"
            }
          },
          "metadata": {},
          "execution_count": 7
        }
      ]
    },
    {
      "cell_type": "code",
      "source": [
        "#Q3) What are the 3 most popular license among these users? Ignore missing licenses.\n",
        "# List the license_name in order, comma-separated.\n",
        "\n",
        "top_3_license=repos_df['license_name'].value_counts().head(3)\n",
        "\n",
        "top_3_license_name=','.join(top_3_license.index)\n",
        "top_3_license_name"
      ],
      "metadata": {
        "colab": {
          "base_uri": "https://localhost:8080/",
          "height": 35
        },
        "id": "YJvGg3Nwn5u1",
        "outputId": "1ce6d0a1-589a-4a63-982e-43ed11497e96"
      },
      "execution_count": 8,
      "outputs": [
        {
          "output_type": "execute_result",
          "data": {
            "text/plain": [
              "'MIT License,Apache License 2.0,Other'"
            ],
            "application/vnd.google.colaboratory.intrinsic+json": {
              "type": "string"
            }
          },
          "metadata": {},
          "execution_count": 8
        }
      ]
    },
    {
      "cell_type": "code",
      "source": [
        "#Q4) Which company do the majority of these developers work at?\n",
        "#users_df['company'].value_counts().sort_index(ascending=False).sort_values(ascending=False)\n",
        "users_df['company'].value_counts().idxmax()"
      ],
      "metadata": {
        "colab": {
          "base_uri": "https://localhost:8080/",
          "height": 35
        },
        "id": "Ne3dHMTqqaTq",
        "outputId": "8ac34be8-7c95-4b61-fd71-2d770a2b050f"
      },
      "execution_count": 9,
      "outputs": [
        {
          "output_type": "execute_result",
          "data": {
            "text/plain": [
              "'CHENNAI INSTITUTE OF TECHNOLOGY'"
            ],
            "application/vnd.google.colaboratory.intrinsic+json": {
              "type": "string"
            }
          },
          "metadata": {},
          "execution_count": 9
        }
      ]
    },
    {
      "cell_type": "code",
      "source": [
        "#Q5) Which programming language is most popular among these users?\n",
        "repos_df['language'].value_counts().idxmax()"
      ],
      "metadata": {
        "colab": {
          "base_uri": "https://localhost:8080/",
          "height": 35
        },
        "id": "VIwAS1pvr807",
        "outputId": "40d73fc3-c4a4-4466-951b-c4a41201fd6f"
      },
      "execution_count": 10,
      "outputs": [
        {
          "output_type": "execute_result",
          "data": {
            "text/plain": [
              "'JavaScript'"
            ],
            "application/vnd.google.colaboratory.intrinsic+json": {
              "type": "string"
            }
          },
          "metadata": {},
          "execution_count": 10
        }
      ]
    },
    {
      "cell_type": "code",
      "source": [
        "#Q6) Which programming language is the second most popular among users who joined after 2020?\n",
        "\n",
        "merged_df=pd.merge(users_df,repos_df,on='login') #to get language and joined date in same row\n",
        "\n",
        "joined_after_2020=merged_df[merged_df['created_at_x']>'2020']\n",
        "\n",
        "joined_after_2020['language'].value_counts().index[1]"
      ],
      "metadata": {
        "colab": {
          "base_uri": "https://localhost:8080/",
          "height": 35
        },
        "id": "PujtB048sWTl",
        "outputId": "d2ae94c3-560b-4b68-da77-b2616c4c69cc"
      },
      "execution_count": 11,
      "outputs": [
        {
          "output_type": "execute_result",
          "data": {
            "text/plain": [
              "'Python'"
            ],
            "application/vnd.google.colaboratory.intrinsic+json": {
              "type": "string"
            }
          },
          "metadata": {},
          "execution_count": 11
        }
      ]
    },
    {
      "cell_type": "code",
      "source": [
        "#Q7) Which language has the highest average number of stars per repository?\n",
        "\n",
        "avg_lang_stars=repos_df.groupby('language')['stargazers_count'].mean()\n",
        "avg_lang_stars.idxmax()"
      ],
      "metadata": {
        "colab": {
          "base_uri": "https://localhost:8080/",
          "height": 35
        },
        "id": "NKGcDccAv8Il",
        "outputId": "a784a27e-0325-40e2-a7a1-034ccdd1a02e"
      },
      "execution_count": 12,
      "outputs": [
        {
          "output_type": "execute_result",
          "data": {
            "text/plain": [
              "'Markdown'"
            ],
            "application/vnd.google.colaboratory.intrinsic+json": {
              "type": "string"
            }
          },
          "metadata": {},
          "execution_count": 12
        }
      ]
    },
    {
      "cell_type": "code",
      "source": [
        "#Q8) Let's define leader_strength as followers / (1 + following).\n",
        "# Who are the top 5 in terms of leader_strength?\n",
        "# List their login in order, comma-separated.\n",
        "\n",
        "users_df['leader_strength']=users_df['followers']/(1+users_df['following'])\n",
        "top_5_leaders=users_df.sort_values(by='leader_strength',ascending=False).head(5)\n",
        "','.join(top_5_leaders['login'])"
      ],
      "metadata": {
        "colab": {
          "base_uri": "https://localhost:8080/",
          "height": 35
        },
        "id": "k-wrv9LVxPW7",
        "outputId": "dd24497d-e5dd-4361-a388-d8c3f52afe02"
      },
      "execution_count": 13,
      "outputs": [
        {
          "output_type": "execute_result",
          "data": {
            "text/plain": [
              "'codewithMUHILAN,Premalatha-success,aswintechguy,manikandanraji,jaganjavid'"
            ],
            "application/vnd.google.colaboratory.intrinsic+json": {
              "type": "string"
            }
          },
          "metadata": {},
          "execution_count": 13
        }
      ]
    },
    {
      "cell_type": "code",
      "source": [
        "#Q9) What is the correlation between the number of followers and the number of public repositories among users in Chennai?\n",
        "\n",
        "users_df['followers'].corr(users_df['public_repos']).round(3)"
      ],
      "metadata": {
        "colab": {
          "base_uri": "https://localhost:8080/"
        },
        "id": "p7skwAuczVao",
        "outputId": "9432bc36-b6e7-4d82-f7be-402c8337c5e1"
      },
      "execution_count": 14,
      "outputs": [
        {
          "output_type": "execute_result",
          "data": {
            "text/plain": [
              "0.085"
            ]
          },
          "metadata": {},
          "execution_count": 14
        }
      ]
    },
    {
      "cell_type": "code",
      "source": [
        "#Q10) Does creating more repos help users get more followers?\n",
        "# Using regression, estimate how many additional followers a user gets per additional public repository.\n",
        "\n",
        "from sklearn.linear_model import LinearRegression\n",
        "\n",
        "X=users_df[['public_repos']]\n",
        "y=users_df['followers']\n",
        "\n",
        "model=LinearRegression()\n",
        "model.fit(X,y)\n",
        "model.coef_[0].round(3)"
      ],
      "metadata": {
        "colab": {
          "base_uri": "https://localhost:8080/"
        },
        "id": "zsgESgdH0fu5",
        "outputId": "c8eadd30-fc33-46db-c26b-b73404bf0f13"
      },
      "execution_count": 15,
      "outputs": [
        {
          "output_type": "execute_result",
          "data": {
            "text/plain": [
              "0.302"
            ]
          },
          "metadata": {},
          "execution_count": 15
        }
      ]
    },
    {
      "cell_type": "code",
      "source": [
        "#Q11) Do people typically enable projects and wikis together?\n",
        "# What is the correlation between a repo having projects enabled and having wiki enabled?\n",
        "repos_df[['has_projects','has_wiki']].corr()"
      ],
      "metadata": {
        "colab": {
          "base_uri": "https://localhost:8080/",
          "height": 112
        },
        "id": "CQ6gPnsj1cm3",
        "outputId": "2e8e8320-9ca0-41b0-8827-858d24723dda"
      },
      "execution_count": 16,
      "outputs": [
        {
          "output_type": "execute_result",
          "data": {
            "text/plain": [
              "              has_projects  has_wiki\n",
              "has_projects      1.000000  0.221423\n",
              "has_wiki          0.221423  1.000000"
            ],
            "text/html": [
              "\n",
              "  <div id=\"df-6fdf69c2-42f4-4bba-8a92-39e2fabc2c0a\" class=\"colab-df-container\">\n",
              "    <div>\n",
              "<style scoped>\n",
              "    .dataframe tbody tr th:only-of-type {\n",
              "        vertical-align: middle;\n",
              "    }\n",
              "\n",
              "    .dataframe tbody tr th {\n",
              "        vertical-align: top;\n",
              "    }\n",
              "\n",
              "    .dataframe thead th {\n",
              "        text-align: right;\n",
              "    }\n",
              "</style>\n",
              "<table border=\"1\" class=\"dataframe\">\n",
              "  <thead>\n",
              "    <tr style=\"text-align: right;\">\n",
              "      <th></th>\n",
              "      <th>has_projects</th>\n",
              "      <th>has_wiki</th>\n",
              "    </tr>\n",
              "  </thead>\n",
              "  <tbody>\n",
              "    <tr>\n",
              "      <th>has_projects</th>\n",
              "      <td>1.000000</td>\n",
              "      <td>0.221423</td>\n",
              "    </tr>\n",
              "    <tr>\n",
              "      <th>has_wiki</th>\n",
              "      <td>0.221423</td>\n",
              "      <td>1.000000</td>\n",
              "    </tr>\n",
              "  </tbody>\n",
              "</table>\n",
              "</div>\n",
              "    <div class=\"colab-df-buttons\">\n",
              "\n",
              "  <div class=\"colab-df-container\">\n",
              "    <button class=\"colab-df-convert\" onclick=\"convertToInteractive('df-6fdf69c2-42f4-4bba-8a92-39e2fabc2c0a')\"\n",
              "            title=\"Convert this dataframe to an interactive table.\"\n",
              "            style=\"display:none;\">\n",
              "\n",
              "  <svg xmlns=\"http://www.w3.org/2000/svg\" height=\"24px\" viewBox=\"0 -960 960 960\">\n",
              "    <path d=\"M120-120v-720h720v720H120Zm60-500h600v-160H180v160Zm220 220h160v-160H400v160Zm0 220h160v-160H400v160ZM180-400h160v-160H180v160Zm440 0h160v-160H620v160ZM180-180h160v-160H180v160Zm440 0h160v-160H620v160Z\"/>\n",
              "  </svg>\n",
              "    </button>\n",
              "\n",
              "  <style>\n",
              "    .colab-df-container {\n",
              "      display:flex;\n",
              "      gap: 12px;\n",
              "    }\n",
              "\n",
              "    .colab-df-convert {\n",
              "      background-color: #E8F0FE;\n",
              "      border: none;\n",
              "      border-radius: 50%;\n",
              "      cursor: pointer;\n",
              "      display: none;\n",
              "      fill: #1967D2;\n",
              "      height: 32px;\n",
              "      padding: 0 0 0 0;\n",
              "      width: 32px;\n",
              "    }\n",
              "\n",
              "    .colab-df-convert:hover {\n",
              "      background-color: #E2EBFA;\n",
              "      box-shadow: 0px 1px 2px rgba(60, 64, 67, 0.3), 0px 1px 3px 1px rgba(60, 64, 67, 0.15);\n",
              "      fill: #174EA6;\n",
              "    }\n",
              "\n",
              "    .colab-df-buttons div {\n",
              "      margin-bottom: 4px;\n",
              "    }\n",
              "\n",
              "    [theme=dark] .colab-df-convert {\n",
              "      background-color: #3B4455;\n",
              "      fill: #D2E3FC;\n",
              "    }\n",
              "\n",
              "    [theme=dark] .colab-df-convert:hover {\n",
              "      background-color: #434B5C;\n",
              "      box-shadow: 0px 1px 3px 1px rgba(0, 0, 0, 0.15);\n",
              "      filter: drop-shadow(0px 1px 2px rgba(0, 0, 0, 0.3));\n",
              "      fill: #FFFFFF;\n",
              "    }\n",
              "  </style>\n",
              "\n",
              "    <script>\n",
              "      const buttonEl =\n",
              "        document.querySelector('#df-6fdf69c2-42f4-4bba-8a92-39e2fabc2c0a button.colab-df-convert');\n",
              "      buttonEl.style.display =\n",
              "        google.colab.kernel.accessAllowed ? 'block' : 'none';\n",
              "\n",
              "      async function convertToInteractive(key) {\n",
              "        const element = document.querySelector('#df-6fdf69c2-42f4-4bba-8a92-39e2fabc2c0a');\n",
              "        const dataTable =\n",
              "          await google.colab.kernel.invokeFunction('convertToInteractive',\n",
              "                                                    [key], {});\n",
              "        if (!dataTable) return;\n",
              "\n",
              "        const docLinkHtml = 'Like what you see? Visit the ' +\n",
              "          '<a target=\"_blank\" href=https://colab.research.google.com/notebooks/data_table.ipynb>data table notebook</a>'\n",
              "          + ' to learn more about interactive tables.';\n",
              "        element.innerHTML = '';\n",
              "        dataTable['output_type'] = 'display_data';\n",
              "        await google.colab.output.renderOutput(dataTable, element);\n",
              "        const docLink = document.createElement('div');\n",
              "        docLink.innerHTML = docLinkHtml;\n",
              "        element.appendChild(docLink);\n",
              "      }\n",
              "    </script>\n",
              "  </div>\n",
              "\n",
              "\n",
              "<div id=\"df-78a1be5d-6100-4216-933c-1d6287059111\">\n",
              "  <button class=\"colab-df-quickchart\" onclick=\"quickchart('df-78a1be5d-6100-4216-933c-1d6287059111')\"\n",
              "            title=\"Suggest charts\"\n",
              "            style=\"display:none;\">\n",
              "\n",
              "<svg xmlns=\"http://www.w3.org/2000/svg\" height=\"24px\"viewBox=\"0 0 24 24\"\n",
              "     width=\"24px\">\n",
              "    <g>\n",
              "        <path d=\"M19 3H5c-1.1 0-2 .9-2 2v14c0 1.1.9 2 2 2h14c1.1 0 2-.9 2-2V5c0-1.1-.9-2-2-2zM9 17H7v-7h2v7zm4 0h-2V7h2v10zm4 0h-2v-4h2v4z\"/>\n",
              "    </g>\n",
              "</svg>\n",
              "  </button>\n",
              "\n",
              "<style>\n",
              "  .colab-df-quickchart {\n",
              "      --bg-color: #E8F0FE;\n",
              "      --fill-color: #1967D2;\n",
              "      --hover-bg-color: #E2EBFA;\n",
              "      --hover-fill-color: #174EA6;\n",
              "      --disabled-fill-color: #AAA;\n",
              "      --disabled-bg-color: #DDD;\n",
              "  }\n",
              "\n",
              "  [theme=dark] .colab-df-quickchart {\n",
              "      --bg-color: #3B4455;\n",
              "      --fill-color: #D2E3FC;\n",
              "      --hover-bg-color: #434B5C;\n",
              "      --hover-fill-color: #FFFFFF;\n",
              "      --disabled-bg-color: #3B4455;\n",
              "      --disabled-fill-color: #666;\n",
              "  }\n",
              "\n",
              "  .colab-df-quickchart {\n",
              "    background-color: var(--bg-color);\n",
              "    border: none;\n",
              "    border-radius: 50%;\n",
              "    cursor: pointer;\n",
              "    display: none;\n",
              "    fill: var(--fill-color);\n",
              "    height: 32px;\n",
              "    padding: 0;\n",
              "    width: 32px;\n",
              "  }\n",
              "\n",
              "  .colab-df-quickchart:hover {\n",
              "    background-color: var(--hover-bg-color);\n",
              "    box-shadow: 0 1px 2px rgba(60, 64, 67, 0.3), 0 1px 3px 1px rgba(60, 64, 67, 0.15);\n",
              "    fill: var(--button-hover-fill-color);\n",
              "  }\n",
              "\n",
              "  .colab-df-quickchart-complete:disabled,\n",
              "  .colab-df-quickchart-complete:disabled:hover {\n",
              "    background-color: var(--disabled-bg-color);\n",
              "    fill: var(--disabled-fill-color);\n",
              "    box-shadow: none;\n",
              "  }\n",
              "\n",
              "  .colab-df-spinner {\n",
              "    border: 2px solid var(--fill-color);\n",
              "    border-color: transparent;\n",
              "    border-bottom-color: var(--fill-color);\n",
              "    animation:\n",
              "      spin 1s steps(1) infinite;\n",
              "  }\n",
              "\n",
              "  @keyframes spin {\n",
              "    0% {\n",
              "      border-color: transparent;\n",
              "      border-bottom-color: var(--fill-color);\n",
              "      border-left-color: var(--fill-color);\n",
              "    }\n",
              "    20% {\n",
              "      border-color: transparent;\n",
              "      border-left-color: var(--fill-color);\n",
              "      border-top-color: var(--fill-color);\n",
              "    }\n",
              "    30% {\n",
              "      border-color: transparent;\n",
              "      border-left-color: var(--fill-color);\n",
              "      border-top-color: var(--fill-color);\n",
              "      border-right-color: var(--fill-color);\n",
              "    }\n",
              "    40% {\n",
              "      border-color: transparent;\n",
              "      border-right-color: var(--fill-color);\n",
              "      border-top-color: var(--fill-color);\n",
              "    }\n",
              "    60% {\n",
              "      border-color: transparent;\n",
              "      border-right-color: var(--fill-color);\n",
              "    }\n",
              "    80% {\n",
              "      border-color: transparent;\n",
              "      border-right-color: var(--fill-color);\n",
              "      border-bottom-color: var(--fill-color);\n",
              "    }\n",
              "    90% {\n",
              "      border-color: transparent;\n",
              "      border-bottom-color: var(--fill-color);\n",
              "    }\n",
              "  }\n",
              "</style>\n",
              "\n",
              "  <script>\n",
              "    async function quickchart(key) {\n",
              "      const quickchartButtonEl =\n",
              "        document.querySelector('#' + key + ' button');\n",
              "      quickchartButtonEl.disabled = true;  // To prevent multiple clicks.\n",
              "      quickchartButtonEl.classList.add('colab-df-spinner');\n",
              "      try {\n",
              "        const charts = await google.colab.kernel.invokeFunction(\n",
              "            'suggestCharts', [key], {});\n",
              "      } catch (error) {\n",
              "        console.error('Error during call to suggestCharts:', error);\n",
              "      }\n",
              "      quickchartButtonEl.classList.remove('colab-df-spinner');\n",
              "      quickchartButtonEl.classList.add('colab-df-quickchart-complete');\n",
              "    }\n",
              "    (() => {\n",
              "      let quickchartButtonEl =\n",
              "        document.querySelector('#df-78a1be5d-6100-4216-933c-1d6287059111 button');\n",
              "      quickchartButtonEl.style.display =\n",
              "        google.colab.kernel.accessAllowed ? 'block' : 'none';\n",
              "    })();\n",
              "  </script>\n",
              "</div>\n",
              "\n",
              "    </div>\n",
              "  </div>\n"
            ],
            "application/vnd.google.colaboratory.intrinsic+json": {
              "type": "dataframe",
              "summary": "{\n  \"name\": \"repos_df[['has_projects','has_wiki']]\",\n  \"rows\": 2,\n  \"fields\": [\n    {\n      \"column\": \"has_projects\",\n      \"properties\": {\n        \"dtype\": \"number\",\n        \"std\": 0.5505370506212484,\n        \"min\": 0.22142303642254743,\n        \"max\": 1.0,\n        \"num_unique_values\": 2,\n        \"samples\": [\n          0.22142303642254743,\n          1.0\n        ],\n        \"semantic_type\": \"\",\n        \"description\": \"\"\n      }\n    },\n    {\n      \"column\": \"has_wiki\",\n      \"properties\": {\n        \"dtype\": \"number\",\n        \"std\": 0.5505370506212484,\n        \"min\": 0.22142303642254743,\n        \"max\": 1.0,\n        \"num_unique_values\": 2,\n        \"samples\": [\n          1.0,\n          0.22142303642254743\n        ],\n        \"semantic_type\": \"\",\n        \"description\": \"\"\n      }\n    }\n  ]\n}"
            }
          },
          "metadata": {},
          "execution_count": 16
        }
      ]
    },
    {
      "cell_type": "code",
      "source": [
        "#Q12) Do hireable users follow more people than those who are not hireable?\n",
        "\n",
        "hireable_users=users_df[users_df['hireable']==True]\n",
        "non_hireable_users=users_df[users_df['hireable']==False]\n",
        "\n",
        "# non_hireable_users=users_df[users_df['hireable']=='false']\n",
        "# hireable_users=users_df[users_df['hireable']=='true']\n",
        "\n",
        "hireable_following=hireable_users['following'].mean() #.round(3)\n",
        "non_hireable_following=non_hireable_users['following'].mean() #.round(3)\n",
        "\n",
        "round(hireable_following-non_hireable_following,3)"
      ],
      "metadata": {
        "colab": {
          "base_uri": "https://localhost:8080/"
        },
        "id": "C4NWcPyP2_AG",
        "outputId": "6d0463b6-4424-41a7-c7d3-c60a30c4f457"
      },
      "execution_count": 17,
      "outputs": [
        {
          "output_type": "execute_result",
          "data": {
            "text/plain": [
              "238.345"
            ]
          },
          "metadata": {},
          "execution_count": 17
        }
      ]
    },
    {
      "cell_type": "code",
      "source": [
        "#Q13) Some developers write long bios.\n",
        "# Does that help them get more followers?\n",
        "# What's the correlation of the length of their bio (in Unicode characters) with followers? (Ignore people without bios)\n",
        "\n",
        "import numpy as np\n",
        "from sklearn.linear_model import LinearRegression\n",
        "\n",
        "bio_notna=users_df[users_df['bio'].notna()].copy()\n",
        "\n",
        "bio_notna.loc[:,'bios_length']=bio_notna['bio'].apply(lambda x:len(x.split()))\n",
        "\n",
        "\n",
        "X=np.array(bio_notna['bios_length']).reshape(-1,1)\n",
        "y=bio_notna['followers']\n",
        "\n",
        "model=LinearRegression()\n",
        "model.fit(X,y)\n",
        "\n",
        "bio_notna['bios_length'].corr(bio_notna['following']).round(3)\n",
        "\n",
        "model.coef_[0].round(3)"
      ],
      "metadata": {
        "colab": {
          "base_uri": "https://localhost:8080/"
        },
        "id": "mV2XNhUJ40Zo",
        "outputId": "f053c36b-2750-4cc2-f4a3-9863c64edc45"
      },
      "execution_count": 18,
      "outputs": [
        {
          "output_type": "execute_result",
          "data": {
            "text/plain": [
              "-1.701"
            ]
          },
          "metadata": {},
          "execution_count": 18
        }
      ]
    },
    {
      "cell_type": "code",
      "source": [
        "#Q14) Who created the most repositories on weekends (UTC)?\n",
        "#  List the top 5 users' login in order, comma-separated\n",
        "\n",
        "repos_df['created_at'] = pd.to_datetime(repos_df['created_at'])\n",
        "\n",
        "repos_df['created_on_weekend'] = repos_df['created_at'].dt.dayofweek.isin([5, 6])\n",
        "weekend_repos_df = repos_df[repos_df['created_on_weekend']]\n",
        "\n",
        "top_5_weekend_users=weekend_repos_df['login'].value_counts().head(5)\n",
        "','.join(top_5_weekend_users.index)"
      ],
      "metadata": {
        "colab": {
          "base_uri": "https://localhost:8080/",
          "height": 35
        },
        "id": "2Hu6gzXf7EIW",
        "outputId": "908d7b0b-511f-4b9b-8d4e-bc7d92f7f587"
      },
      "execution_count": 19,
      "outputs": [
        {
          "output_type": "execute_result",
          "data": {
            "text/plain": [
              "'aasim-syed,nk-gears,karuppiah7890,rajasegar,TestLeafPages'"
            ],
            "application/vnd.google.colaboratory.intrinsic+json": {
              "type": "string"
            }
          },
          "metadata": {},
          "execution_count": 19
        }
      ]
    },
    {
      "cell_type": "code",
      "source": [
        "#Q15) Do people who are hireable share their email addresses more often?\n",
        "\n",
        "users_df['has_email']=users_df['email'].notna()\n",
        "\n",
        "hireable_with_email=users_df[users_df['hireable']==True]['has_email'].mean()\n",
        "non_hireable_with_email=users_df[users_df['hireable']==False]['has_email'].mean()\n",
        "\n",
        "round(hireable_with_email-non_hireable_with_email,4)"
      ],
      "metadata": {
        "colab": {
          "base_uri": "https://localhost:8080/"
        },
        "id": "KVPJyOXh8dU-",
        "outputId": "f94bfb95-6556-4bdb-dbeb-1875eef7d1f3"
      },
      "execution_count": 20,
      "outputs": [
        {
          "output_type": "execute_result",
          "data": {
            "text/plain": [
              "0.2596"
            ]
          },
          "metadata": {},
          "execution_count": 20
        }
      ]
    },
    {
      "cell_type": "code",
      "source": [
        "#Q16) Let's assume that the last word in a user's name is their surname\n",
        "#  (ignore missing names, trim and split by whitespace.)\n",
        "#  What's the most common surname?\n",
        "#  (If there's a tie, list them all, comma-separated, alphabetically)\n",
        "\n",
        "from collections import Counter\n",
        "\n",
        "users_with_names = users_df[users_df['name'].notna()].copy()\n",
        "users_with_names.loc[:,'surname'] = users_with_names['name'].apply(lambda x: x.strip().split()[-1])\n",
        "\n",
        "# users_with_names['surname'].value_counts().idxmax() # wont work incase of a tie\n",
        "\n",
        "surname_counts=Counter(users_with_names['surname'])\n",
        "\n",
        "max_count = max(surname_counts.values())\n",
        "most_common_surnames = [surname for surname, count in surname_counts.items() if count == max_count]\n",
        "\n",
        "','.join(most_common_surnames)"
      ],
      "metadata": {
        "colab": {
          "base_uri": "https://localhost:8080/",
          "height": 35
        },
        "id": "3gUi4gBG_DQi",
        "outputId": "a77c2608-795d-4387-dee2-d8fd6de210be"
      },
      "execution_count": 21,
      "outputs": [
        {
          "output_type": "execute_result",
          "data": {
            "text/plain": [
              "'S'"
            ],
            "application/vnd.google.colaboratory.intrinsic+json": {
              "type": "string"
            }
          },
          "metadata": {},
          "execution_count": 21
        }
      ]
    },
    {
      "cell_type": "code",
      "source": [
        "import matplotlib.pyplot as plt\n",
        "\n",
        "joined_before_2020=merged_df[merged_df['created_at_x']<'2020']\n",
        "df1=joined_before_2020['language'].value_counts()\n",
        "df2=joined_after_2020['language'].value_counts()\n",
        "\n",
        "# Merge the DataFrames\n",
        "comparison_df = pd.merge(df1, df2, on='language', how='outer', suffixes=('_series1', '_series2')).fillna(0).sort_values(by=['count_series2','count_series1'],ascending=False)\n",
        "# Calculate percentages\n",
        "comparison_df['Percentage_before2020'] = (comparison_df['count_series1'] / comparison_df['count_series1'].sum()) * 100\n",
        "comparison_df['Percentage_after2020'] = (comparison_df['count_series2'] / comparison_df['count_series2'].sum()) * 100\n",
        "# Plotting\n",
        "fig, (plt2,plt1)=plt.subplots(1,2,figsize=(12,5))\n",
        "\n",
        "bars1=comparison_df[['Percentage_before2020','Percentage_after2020']][:10].plot(kind='bar',ax=plt1)\n",
        "plt1.set_title('Top 10 After 2020')\n",
        "plt1.set_xlabel('Language')\n",
        "plt1.set_ylabel('Count')\n",
        "# plt1.show()\n",
        "for p in bars1.patches:\n",
        "  bars1.annotate(str(f'{p.get_height():.2f}'), (p.get_x() + p.get_width() / 2., p.get_height()), ha='center', fontsize=8)\n",
        "\n",
        "Newcomparison_df=comparison_df.sort_values(by=['count_series1','count_series2'],ascending=False)\n",
        "bars2=Newcomparison_df[['Percentage_before2020','Percentage_after2020']][:10].plot(kind='bar',ax=plt2)\n",
        "plt2.set_title('Top 10 Before 2020')\n",
        "plt2.set_xlabel('Language')\n",
        "plt2.set_ylabel('Count')\n",
        "# plt2.show()\n",
        "for p in bars2.patches:\n",
        "  bars2.annotate(str(f'{p.get_height():.2f}'), (p.get_x() + p.get_width() / 2., p.get_height()), ha='center', fontsize=8)\n",
        "\n",
        "plt.tight_layout()\n",
        "plt.show()\n",
        "# joined_after_2020.shape,joined_before_2020.shape,repos_df.shape\n",
        "# comparison_df\n",
        "# This indicates that JavaScript and HTML are becoming popular whereas Python and Java are used less compared to few years ago!\n",
        "# JavaScript and HTML have started dominating since 2021 , while Java was overwhelmingly popular till 2020. Jupyter Notebook wasn't there in the frame until 2020, but since 2021 it has become the 4th popular language!\n",
        "\n",
        "# Since 2021, JavaScript and HTML have taken the lead among the most popular language, while Java was dominant until 2020. Jupyter Notebook was absent until 2020 but has surged to become the 4th most popular language since 2021."
      ],
      "metadata": {
        "id": "DOTu1uzui4VN",
        "colab": {
          "base_uri": "https://localhost:8080/",
          "height": 369
        },
        "outputId": "a7e6658c-b43f-4cda-f404-5439a11bf9a7"
      },
      "execution_count": 22,
      "outputs": [
        {
          "output_type": "display_data",
          "data": {
            "text/plain": [
              "<Figure size 1200x500 with 2 Axes>"
            ],
            "image/png": "[encoded data removed]"
          },
          "metadata": {}
        }
      ]
    }
  ]
}
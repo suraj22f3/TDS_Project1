{
  "nbformat": 4,
  "nbformat_minor": 0,
  "metadata": {
    "colab": {
      "provenance": [],
      "authorship_tag": "ABX9TyNuGaH07cpJl58Ge4TSsdfx"
    },
    "kernelspec": {
      "name": "python3",
      "display_name": "Python 3"
    },
    "language_info": {
      "name": "python"
    }
  },
  "cells": [
    {
      "cell_type": "code",
      "execution_count": null,
      "metadata": {
        "colab": {
          "base_uri": "https://localhost:8080/"
        },
        "collapsed": true,
        "id": "2d2upkKNb6F5",
        "outputId": "c07199d6-b6ad-4ea5-8e1f-645d9cbbd469"
      },
      "outputs": [
        {
          "output_type": "stream",
          "name": "stdout",
          "text": [
            "Data scraping and file creation completed.\n"
          ]
        },
        {
          "output_type": "execute_result",
          "data": {
            "text/plain": [
              "(432, 11)"
            ]
          },
          "metadata": {},
          "execution_count": 42
        }
      ],
      "source": [
        "import requests\n",
        "import pandas as pd\n",
        "from google.colab import userdata\n",
        "\n",
        "api_token=userdata.get('New_token')\n",
        "\n",
        "# GitHub API URL\n",
        "base_url = 'https://api.github.com'\n",
        "headers = {'Authorization': f'token {api_token}'}\n",
        "\n",
        "# Get users from Chennai with more than 50 followers\n",
        "users_data=[]\n",
        "page = 1\n",
        "while True:\n",
        "    users_url = f\"{base_url}/search/users?q=location:Chennai+followers:>=50&page={page}&per_page=100\"\n",
        "    response = requests.get(users_url, headers=headers)\n",
        "    data = response.json()\n",
        "    if 'items' not in data or not data['items']:\n",
        "        break\n",
        "    users_data.extend(data['items'])\n",
        "    page += 1\n",
        "\n",
        "# Extract user info\n",
        "users = []\n",
        "for user in users_data:\n",
        "    user_detail_url = user['url']\n",
        "    user_response = requests.get(user_detail_url, headers=headers)\n",
        "    user_info = user_response.json()\n",
        "\n",
        "    # Clean up company name\n",
        "    company = user_info.get('company', '')\n",
        "    if company:\n",
        "        company = company.strip().lstrip('@').upper()\n",
        "\n",
        "    users.append({\n",
        "        'login': user_info['login'],\n",
        "        'name': user_info['name'],\n",
        "        'company': company,\n",
        "        'location': user_info['location'],\n",
        "        'email': user_info['email'],\n",
        "        'hireable': 'true' if user_info['hireable'] else 'false',\n",
        "        'bio': user_info['bio'],\n",
        "        'public_repos': user_info['public_repos'],\n",
        "        'followers': user_info['followers'],\n",
        "        'following': user_info['following'],\n",
        "        'created_at': user_info['created_at']\n",
        "        })\n",
        "\n",
        "# Convert to DataFrame and save as CSV\n",
        "users_df = pd.DataFrame(users)\n",
        "users_df.to_csv('users.csv', index=False)\n",
        "\n",
        "# Fetch repositories for each user\n",
        "repos = []\n",
        "for user in users:\n",
        "    page = 1\n",
        "    user_repos=[]\n",
        "    while True:\n",
        "        repos_url = f\"{base_url}/users/{user['login']}/repos?sort=pushed&direction=desc&page={page}&per_page=100\"\n",
        "        # repos_url = f\"{base_url}/users/{user['login']}/repos?per_page=100\"\n",
        "        repos_response = requests.get(repos_url, headers=headers)\n",
        "        repos_data = repos_response.json()\n",
        "        if not repos_data or len(user_repos) >= 500:\n",
        "            break\n",
        "        for repo in repos_data:\n",
        "            if len(user_repos) >= 500:\n",
        "                break\n",
        "        # for repo in repos_data:\n",
        "            user_repos.append({\n",
        "                'login': user['login'],\n",
        "                'full_name': repo['full_name'],\n",
        "                'created_at': repo['created_at'],\n",
        "                'stargazers_count': repo['stargazers_count'],\n",
        "                'watchers_count': repo['watchers_count'],\n",
        "                'language': repo['language'],\n",
        "                'has_projects': 'true' if repo['has_projects'] else 'false',\n",
        "                'has_wiki': 'true' if repo['has_wiki'] else 'false',\n",
        "                'license_name': repo['license']['name'] if repo['license'] else None\n",
        "            })\n",
        "        page+=1\n",
        "    repos.extend(user_repos)\n",
        "\n",
        "# Convert to DataFrame and save as CSV\n",
        "repos_df = pd.DataFrame(repos)\n",
        "repos_df.to_csv('repositories.csv', index=False)\n",
        "\n",
        "\n",
        "\n",
        "print(\"Data scraping and file creation completed.\")\n",
        "users_df.shape"
      ]
    },
    {
      "cell_type": "code",
      "source": [
        "users_df.columns"
      ],
      "metadata": {
        "colab": {
          "base_uri": "https://localhost:8080/",
          "height": 228
        },
        "id": "UywHVTZAm3YE",
        "outputId": "8b4f446f-a342-452e-8c65-715490de2727",
        "collapsed": true
      },
      "execution_count": null,
      "outputs": [
        {
          "output_type": "error",
          "ename": "NameError",
          "evalue": "name 'users_df' is not defined",
          "traceback": [
            "\u001b[0;31m---------------------------------------------------------------------------\u001b[0m",
            "\u001b[0;31mNameError\u001b[0m                                 Traceback (most recent call last)",
            "\u001b[0;32m<ipython-input-1-d43ef26c393d>\u001b[0m in \u001b[0;36m<cell line: 1>\u001b[0;34m()\u001b[0m\n\u001b[0;32m----> 1\u001b[0;31m \u001b[0musers_df\u001b[0m\u001b[0;34m.\u001b[0m\u001b[0mcolumns\u001b[0m\u001b[0;34m\u001b[0m\u001b[0;34m\u001b[0m\u001b[0m\n\u001b[0m",
            "\u001b[0;31mNameError\u001b[0m: name 'users_df' is not defined"
          ]
        }
      ]
    },
    {
      "cell_type": "code",
      "source": [
        "repos_df.shape,repos_df.columns"
      ],
      "metadata": {
        "colab": {
          "base_uri": "https://localhost:8080/"
        },
        "id": "SjyKZnyloI0e",
        "outputId": "d57d4cf8-89d9-436a-f01b-8d5ba1aec368"
      },
      "execution_count": null,
      "outputs": [
        {
          "output_type": "execute_result",
          "data": {
            "text/plain": [
              "((26947, 9),\n",
              " Index(['login', 'full_name', 'created_at', 'stargazers_count',\n",
              "        'watchers_count', 'language', 'has_projects', 'has_wiki',\n",
              "        'license_name'],\n",
              "       dtype='object'))"
            ]
          },
          "metadata": {},
          "execution_count": 20
        }
      ]
    },
    {
      "cell_type": "code",
      "source": [
        "#Q1) Who are the top 5 users in Chennai with the highest number of followers?\n",
        "# List their login in order, comma-separated.\n",
        "\n",
        "top_5_followed =users_df.sort_values(by=['followers'],ascending=False).head(5)\n",
        "\n",
        "top_5_login=','.join(top_5_followed['login'])\n",
        "top_5_login"
      ],
      "metadata": {
        "colab": {
          "base_uri": "https://localhost:8080/",
          "height": 35
        },
        "id": "i4n9dKNEi7J5",
        "outputId": "7c38921f-020a-4309-f252-cf658797e1b9"
      },
      "execution_count": null,
      "outputs": [
        {
          "output_type": "execute_result",
          "data": {
            "text/plain": [
              "'Premalatha-success,anitaa1990,codewithMUHILAN,sygops,Spikeysanju'"
            ],
            "application/vnd.google.colaboratory.intrinsic+json": {
              "type": "string"
            }
          },
          "metadata": {},
          "execution_count": 21
        }
      ]
    },
    {
      "cell_type": "code",
      "source": [
        "#Q2) Who are the 5 earliest registered GitHub users in Chennai?\n",
        "# List their login in ascending order of created_at, comma-separated.\n",
        "\n",
        "early_5 = users_df.sort_values(by='created_at')\n",
        "\n",
        "early_5_login=','.join(early_5.head(5)['login'])\n",
        "early_5_login"
      ],
      "metadata": {
        "colab": {
          "base_uri": "https://localhost:8080/",
          "height": 35
        },
        "id": "t5Iqom5flill",
        "outputId": "f5dd6210-a1d1-4ca8-a726-6c7359cba060"
      },
      "execution_count": null,
      "outputs": [
        {
          "output_type": "execute_result",
          "data": {
            "text/plain": [
              "'cnu,railsfactory,sudhirj,ravijaya,badri'"
            ],
            "application/vnd.google.colaboratory.intrinsic+json": {
              "type": "string"
            }
          },
          "metadata": {},
          "execution_count": 22
        }
      ]
    },
    {
      "cell_type": "code",
      "source": [
        "#Q3) What are the 3 most popular license among these users? Ignore missing licenses.\n",
        "# List the license_name in order, comma-separated.\n",
        "\n",
        "top_3_license=repos_df['license_name'].value_counts().head(3)\n",
        "\n",
        "top_3_license_name=','.join(top_3_license.index)\n",
        "top_3_license_name"
      ],
      "metadata": {
        "colab": {
          "base_uri": "https://localhost:8080/",
          "height": 35
        },
        "id": "YJvGg3Nwn5u1",
        "outputId": "c16bc06e-23dd-4db1-9f1e-c0c783e262cf"
      },
      "execution_count": null,
      "outputs": [
        {
          "output_type": "execute_result",
          "data": {
            "text/plain": [
              "'mit,apache-2.0,other'"
            ],
            "application/vnd.google.colaboratory.intrinsic+json": {
              "type": "string"
            }
          },
          "metadata": {},
          "execution_count": 23
        }
      ]
    },
    {
      "cell_type": "code",
      "source": [
        "#Q4) Which company do the majority of these developers work at?\n",
        "#users_df['company'].value_counts().sort_index(ascending=False).sort_values(ascending=False)\n",
        "users_df['company'].value_counts().idxmax()"
      ],
      "metadata": {
        "colab": {
          "base_uri": "https://localhost:8080/",
          "height": 489
        },
        "id": "Ne3dHMTqqaTq",
        "outputId": "9982383a-50ff-4cdd-976a-8a9457669c63"
      },
      "execution_count": null,
      "outputs": [
        {
          "output_type": "execute_result",
          "data": {
            "text/plain": [
              "company\n",
              "THOUGHTWORKS                               7\n",
              "CHENNAI INSTITUTE OF TECHNOLOGY            7\n",
              "ZOHO                                       6\n",
              "IIT MADRAS                                 5\n",
              "SRM INSTITUTE OF SCIENCE AND TECHNOLOGY    4\n",
              "                                          ..\n",
              "NIMBLEBOXAI @TUNEHQ                        1\n",
              "NIELSENIQ                                  1\n",
              "NFNLABS                                    1\n",
              "NEXTTECHLAB                                1\n",
              "#XAMARINMONKEYS                            1\n",
              "Name: count, Length: 215, dtype: int64"
            ],
            "text/html": [
              "<div>\n",
              "<style scoped>\n",
              "    .dataframe tbody tr th:only-of-type {\n",
              "        vertical-align: middle;\n",
              "    }\n",
              "\n",
              "    .dataframe tbody tr th {\n",
              "        vertical-align: top;\n",
              "    }\n",
              "\n",
              "    .dataframe thead th {\n",
              "        text-align: right;\n",
              "    }\n",
              "</style>\n",
              "<table border=\"1\" class=\"dataframe\">\n",
              "  <thead>\n",
              "    <tr style=\"text-align: right;\">\n",
              "      <th></th>\n",
              "      <th>count</th>\n",
              "    </tr>\n",
              "    <tr>\n",
              "      <th>company</th>\n",
              "      <th></th>\n",
              "    </tr>\n",
              "  </thead>\n",
              "  <tbody>\n",
              "    <tr>\n",
              "      <th>THOUGHTWORKS</th>\n",
              "      <td>7</td>\n",
              "    </tr>\n",
              "    <tr>\n",
              "      <th>CHENNAI INSTITUTE OF TECHNOLOGY</th>\n",
              "      <td>7</td>\n",
              "    </tr>\n",
              "    <tr>\n",
              "      <th>ZOHO</th>\n",
              "      <td>6</td>\n",
              "    </tr>\n",
              "    <tr>\n",
              "      <th>IIT MADRAS</th>\n",
              "      <td>5</td>\n",
              "    </tr>\n",
              "    <tr>\n",
              "      <th>SRM INSTITUTE OF SCIENCE AND TECHNOLOGY</th>\n",
              "      <td>4</td>\n",
              "    </tr>\n",
              "    <tr>\n",
              "      <th>...</th>\n",
              "      <td>...</td>\n",
              "    </tr>\n",
              "    <tr>\n",
              "      <th>NIMBLEBOXAI @TUNEHQ</th>\n",
              "      <td>1</td>\n",
              "    </tr>\n",
              "    <tr>\n",
              "      <th>NIELSENIQ</th>\n",
              "      <td>1</td>\n",
              "    </tr>\n",
              "    <tr>\n",
              "      <th>NFNLABS</th>\n",
              "      <td>1</td>\n",
              "    </tr>\n",
              "    <tr>\n",
              "      <th>NEXTTECHLAB</th>\n",
              "      <td>1</td>\n",
              "    </tr>\n",
              "    <tr>\n",
              "      <th>#XAMARINMONKEYS</th>\n",
              "      <td>1</td>\n",
              "    </tr>\n",
              "  </tbody>\n",
              "</table>\n",
              "<p>215 rows × 1 columns</p>\n",
              "</div><br><label><b>dtype:</b> int64</label>"
            ]
          },
          "metadata": {},
          "execution_count": 24
        }
      ]
    },
    {
      "cell_type": "code",
      "source": [
        "#Q5) Which programming language is most popular among these users?\n",
        "repos_df['language'].value_counts().idxmax()"
      ],
      "metadata": {
        "colab": {
          "base_uri": "https://localhost:8080/",
          "height": 35
        },
        "id": "VIwAS1pvr807",
        "outputId": "4b325fe6-8eba-413f-f0e9-38fa09b35476"
      },
      "execution_count": null,
      "outputs": [
        {
          "output_type": "execute_result",
          "data": {
            "text/plain": [
              "'JavaScript'"
            ],
            "application/vnd.google.colaboratory.intrinsic+json": {
              "type": "string"
            }
          },
          "metadata": {},
          "execution_count": 25
        }
      ]
    },
    {
      "cell_type": "code",
      "source": [
        "#Q6) Which programming language is the second most popular among users who joined after 2020?\n",
        "\n",
        "merged_df=pd.merge(users_df,repos_df,on='login') #to get language and joined date in same row\n",
        "\n",
        "joined_after_2020=merged_df[merged_df['created_at_x']>'2020']\n",
        "\n",
        "joined_after_2020['language'].value_counts().index[1]"
      ],
      "metadata": {
        "colab": {
          "base_uri": "https://localhost:8080/",
          "height": 35
        },
        "id": "PujtB048sWTl",
        "outputId": "806a1be9-c21c-46a5-d17d-bed2d712f2b2"
      },
      "execution_count": null,
      "outputs": [
        {
          "output_type": "execute_result",
          "data": {
            "text/plain": [
              "'Python'"
            ],
            "application/vnd.google.colaboratory.intrinsic+json": {
              "type": "string"
            }
          },
          "metadata": {},
          "execution_count": 26
        }
      ]
    },
    {
      "cell_type": "code",
      "source": [
        "#Q7) Which language has the highest average number of stars per repository?\n",
        "\n",
        "avg_lang_stars=repos_df.groupby('language')['stargazers_count'].mean()\n",
        "avg_lang_stars.idxmax()"
      ],
      "metadata": {
        "colab": {
          "base_uri": "https://localhost:8080/",
          "height": 35
        },
        "id": "NKGcDccAv8Il",
        "outputId": "b67eb8ee-0130-4980-aa0b-338072672141"
      },
      "execution_count": null,
      "outputs": [
        {
          "output_type": "execute_result",
          "data": {
            "text/plain": [
              "'Markdown'"
            ],
            "application/vnd.google.colaboratory.intrinsic+json": {
              "type": "string"
            }
          },
          "metadata": {},
          "execution_count": 27
        }
      ]
    },
    {
      "cell_type": "code",
      "source": [
        "#Q8) Let's define leader_strength as followers / (1 + following).\n",
        "# Who are the top 5 in terms of leader_strength?\n",
        "# List their login in order, comma-separated.\n",
        "\n",
        "users_df['leader_strength']=users_df['followers']/(1+users_df['following'])\n",
        "top_5_leaders=users_df.sort_values(by='leader_strength',ascending=False).head(5)\n",
        "','.join(top_5_leaders['login'])"
      ],
      "metadata": {
        "colab": {
          "base_uri": "https://localhost:8080/",
          "height": 35
        },
        "id": "k-wrv9LVxPW7",
        "outputId": "07d99115-5232-404c-b364-a89c3c22dc48"
      },
      "execution_count": null,
      "outputs": [
        {
          "output_type": "execute_result",
          "data": {
            "text/plain": [
              "'codewithMUHILAN,Premalatha-success,aswintechguy,manikandanraji,jaganjavid'"
            ],
            "application/vnd.google.colaboratory.intrinsic+json": {
              "type": "string"
            }
          },
          "metadata": {},
          "execution_count": 28
        }
      ]
    },
    {
      "cell_type": "code",
      "source": [
        "#Q9) What is the correlation between the number of followers and the number of public repositories among users in Chennai?\n",
        "\n",
        "users_df['followers'].corr(users_df['public_repos']).round(3)"
      ],
      "metadata": {
        "colab": {
          "base_uri": "https://localhost:8080/"
        },
        "id": "p7skwAuczVao",
        "outputId": "41f95729-3397-4127-dbc8-b0bdec1ee01c"
      },
      "execution_count": null,
      "outputs": [
        {
          "output_type": "execute_result",
          "data": {
            "text/plain": [
              "0.085"
            ]
          },
          "metadata": {},
          "execution_count": 29
        }
      ]
    },
    {
      "cell_type": "code",
      "source": [
        "#Q10) Does creating more repos help users get more followers?\n",
        "# Using regression, estimate how many additional followers a user gets per additional public repository.\n",
        "\n",
        "from sklearn.linear_model import LinearRegression\n",
        "\n",
        "X=users_df[['public_repos']]\n",
        "y=users_df['followers']\n",
        "\n",
        "model=LinearRegression()\n",
        "model.fit(X,y)\n",
        "model.coef_[0].round(3)"
      ],
      "metadata": {
        "colab": {
          "base_uri": "https://localhost:8080/"
        },
        "id": "zsgESgdH0fu5",
        "outputId": "effc4c6e-7190-4d4f-e2ff-fdec321b9cfb"
      },
      "execution_count": null,
      "outputs": [
        {
          "output_type": "execute_result",
          "data": {
            "text/plain": [
              "0.301"
            ]
          },
          "metadata": {},
          "execution_count": 30
        }
      ]
    },
    {
      "cell_type": "code",
      "source": [
        "#Q11) Do people typically enable projects and wikis together?\n",
        "# What is the correlation between a repo having projects enabled and having wiki enabled?\n",
        "repos_df[['has_projects','has_wiki']].corr()"
      ],
      "metadata": {
        "colab": {
          "base_uri": "https://localhost:8080/"
        },
        "id": "CQ6gPnsj1cm3",
        "outputId": "f9508450-31bb-4eec-d295-137991d09c72"
      },
      "execution_count": null,
      "outputs": [
        {
          "output_type": "execute_result",
          "data": {
            "text/plain": [
              "(              has_projects  has_wiki\n",
              " has_projects      1.000000  0.220755\n",
              " has_wiki          0.220755  1.000000,\n",
              "               has_projects  has_wiki\n",
              " has_projects      1.000000  0.221423\n",
              " has_wiki          0.221423  1.000000)"
            ]
          },
          "metadata": {},
          "execution_count": 53
        }
      ]
    },
    {
      "cell_type": "code",
      "source": [
        "#Q12) Do hireable users follow more people than those who are not hireable?\n",
        "\n",
        "hireable_users=users_df[users_df['hireable']==True]\n",
        "non_hireable_users=users_df[users_df['hireable']==False]\n",
        "\n",
        "# non_hireable_users=users_df[users_df['hireable']=='false']\n",
        "# hireable_users=users_df[users_df['hireable']=='true']\n",
        "\n",
        "hireable_following=hireable_users['following'].mean() #.round(3)\n",
        "non_hireable_following=non_hireable_users['following'].mean() #.round(3)\n",
        "\n",
        "round(hireable_following-non_hireable_following,3)"
      ],
      "metadata": {
        "colab": {
          "base_uri": "https://localhost:8080/"
        },
        "id": "C4NWcPyP2_AG",
        "outputId": "6de01443-d60b-4e6a-8138-cac4d2199218"
      },
      "execution_count": null,
      "outputs": [
        {
          "output_type": "execute_result",
          "data": {
            "text/plain": [
              "(237.946, 238.345)"
            ]
          },
          "metadata": {},
          "execution_count": 56
        }
      ]
    },
    {
      "cell_type": "code",
      "source": [
        "#Q13) Some developers write long bios.\n",
        "# Does that help them get more followers?\n",
        "# What's the correlation of the length of their bio (in Unicode characters) with followers? (Ignore people without bios)\n",
        "\n",
        "import numpy as np\n",
        "from sklearn.linear_model import LinearRegression\n",
        "\n",
        "bio_notna=users_df[users_df['bio'].notna()].copy()\n",
        "\n",
        "bio_notna.loc[:,'bios_length']=bio_notna['bio'].apply(lambda x:len(x.split()))\n",
        "\n",
        "\n",
        "X=np.array(bio_notna['bios_length']).reshape(-1,1)\n",
        "y=bio_notna['followers']\n",
        "\n",
        "model=LinearRegression()\n",
        "model.fit(X,y)\n",
        "\n",
        "bio_notna['bios_length'].corr(bio_notna['following']).round(3)\n",
        "\n",
        "model.coef_[0].round(3)"
      ],
      "metadata": {
        "colab": {
          "base_uri": "https://localhost:8080/"
        },
        "id": "mV2XNhUJ40Zo",
        "outputId": "401f43b2-5a4c-4f68-8d6d-7c91398c2159"
      },
      "execution_count": null,
      "outputs": [
        {
          "output_type": "execute_result",
          "data": {
            "text/plain": [
              "-1.701"
            ]
          },
          "metadata": {},
          "execution_count": 76
        }
      ]
    },
    {
      "cell_type": "code",
      "source": [
        "#Q14) Who created the most repositories on weekends (UTC)?\n",
        "#  List the top 5 users' login in order, comma-separated\n",
        "\n",
        "repos_df['created_at'] = pd.to_datetime(repos_df['created_at'])\n",
        "\n",
        "repos_df['created_on_weekend'] = repos_df['created_at'].dt.dayofweek.isin([5, 6])\n",
        "weekend_repos_df = repos_df[repos_df['created_on_weekend']]\n",
        "\n",
        "top_5_weekend_users=weekend_repos_df['login'].value_counts().head(5)\n",
        "','.join(top_5_weekend_users.index)"
      ],
      "metadata": {
        "colab": {
          "base_uri": "https://localhost:8080/",
          "height": 35
        },
        "id": "2Hu6gzXf7EIW",
        "outputId": "7af66c9c-e699-4d10-cbf4-55d09221897a"
      },
      "execution_count": null,
      "outputs": [
        {
          "output_type": "execute_result",
          "data": {
            "text/plain": [
              "'aasim-syed,nk-gears,karuppiah7890,rajasegar,TestLeafPages'"
            ],
            "application/vnd.google.colaboratory.intrinsic+json": {
              "type": "string"
            }
          },
          "metadata": {},
          "execution_count": 38
        }
      ]
    },
    {
      "cell_type": "code",
      "source": [
        "#Q15) Do people who are hireable share their email addresses more often?\n",
        "\n",
        "users_df['has_email']=users_df['email'].notna()\n",
        "\n",
        "hireable_with_email=users_df[users_df['hireable']==True]['has_email'].mean()\n",
        "non_hireable_with_email=users_df[users_df['hireable']==False]['has_email'].mean()\n",
        "\n",
        "round(hireable_with_email-non_hireable_with_email,4)"
      ],
      "metadata": {
        "colab": {
          "base_uri": "https://localhost:8080/"
        },
        "id": "KVPJyOXh8dU-",
        "outputId": "72225c37-8861-487f-8dc7-b90733a1002d"
      },
      "execution_count": null,
      "outputs": [
        {
          "output_type": "execute_result",
          "data": {
            "text/plain": [
              "(0.2646, 0.2596)"
            ]
          },
          "metadata": {},
          "execution_count": 59
        }
      ]
    },
    {
      "cell_type": "code",
      "source": [
        "#Q16) Let's assume that the last word in a user's name is their surname\n",
        "#  (ignore missing names, trim and split by whitespace.)\n",
        "#  What's the most common surname?\n",
        "#  (If there's a tie, list them all, comma-separated, alphabetically)\n",
        "\n",
        "from collections import Counter\n",
        "\n",
        "users_with_names = users_df[users_df['name'].notna()].copy()\n",
        "users_with_names.loc[:,'surname'] = users_with_names['name'].apply(lambda x: x.strip().split()[-1])\n",
        "\n",
        "# users_with_names['surname'].value_counts().idxmax() # wont work incase of a tie\n",
        "\n",
        "surname_counts=Counter(users_with_names['surname'])\n",
        "\n",
        "max_count = max(surname_counts.values())\n",
        "most_common_surnames = [surname for surname, count in surname_counts.items() if count == max_count]\n",
        "\n",
        "','.join(most_common_surnames)"
      ],
      "metadata": {
        "colab": {
          "base_uri": "https://localhost:8080/",
          "height": 35
        },
        "id": "3gUi4gBG_DQi",
        "outputId": "b6620d02-85e2-4609-96c5-7afd0beecc02"
      },
      "execution_count": null,
      "outputs": [
        {
          "output_type": "execute_result",
          "data": {
            "text/plain": [
              "'S'"
            ],
            "application/vnd.google.colaboratory.intrinsic+json": {
              "type": "string"
            }
          },
          "metadata": {},
          "execution_count": 40
        }
      ]
    },
    {
      "cell_type": "code",
      "source": [
        "import matplotlib.pyplot as plt\n",
        "\n",
        "joined_before_2020=merged_df[merged_df['created_at_x']<'2020']\n",
        "df1=joined_before_2020['language'].value_counts()\n",
        "df2=joined_after_2020['language'].value_counts()\n",
        "\n",
        "# Merge the DataFrames\n",
        "comparison_df = pd.merge(df1, df2, on='language', how='outer', suffixes=('_series1', '_series2')).fillna(0).sort_values(by=['count_series2','count_series1'],ascending=False)\n",
        "# Calculate percentages\n",
        "comparison_df['Percentage_before2020'] = (comparison_df['count_series1'] / comparison_df['count_series1'].sum()) * 100\n",
        "comparison_df['Percentage_after2020'] = (comparison_df['count_series2'] / comparison_df['count_series2'].sum()) * 100\n",
        "# Plotting\n",
        "fig, (plt2,plt1)=plt.subplots(1,2,figsize=(12,5))\n",
        "\n",
        "bars1=comparison_df[['Percentage_before2020','Percentage_after2020']][:10].plot(kind='bar',ax=plt1)\n",
        "plt1.set_title('Top 10 After 2020')\n",
        "plt1.set_xlabel('Language')\n",
        "plt1.set_ylabel('Count')\n",
        "# plt1.show()\n",
        "for p in bars1.patches:\n",
        "  bars1.annotate(str(f'{p.get_height():.2f}'), (p.get_x() + p.get_width() / 2., p.get_height()), ha='center', fontsize=8)\n",
        "\n",
        "Newcomparison_df=comparison_df.sort_values(by=['count_series1','count_series2'],ascending=False)\n",
        "bars2=Newcomparison_df[['Percentage_before2020','Percentage_after2020']][:10].plot(kind='bar',ax=plt2)\n",
        "plt2.set_title('Top 10 Before 2020')\n",
        "plt2.set_xlabel('Language')\n",
        "plt2.set_ylabel('Count')\n",
        "# plt2.show()\n",
        "for p in bars2.patches:\n",
        "  bars2.annotate(str(f'{p.get_height():.2f}'), (p.get_x() + p.get_width() / 2., p.get_height()), ha='center', fontsize=8)\n",
        "\n",
        "plt.tight_layout()\n",
        "plt.show()\n",
        "# joined_after_2020.shape,joined_before_2020.shape,repos_df.shape\n",
        "# comparison_df\n",
        "# This indicates that JavaScript and HTML are becoming popular whereas Python and Java are used less compared to few years ago!\n",
        "# JavaScript and HTML have started dominating since 2021 , while Java was overwhelmingly popular till 2020. Jupyter Notebook wasn't there in the frame until 2020, but since 2021 it has become the 4th popular language!\n",
        "\n",
        "# Since 2021, JavaScript and HTML have taken the lead among the most popular language, while Java was dominant until 2020. Jupyter Notebook was absent until 2020 but has surged to become the 4th most popular language since 2021."
      ],
      "metadata": {
        "id": "DOTu1uzui4VN",
        "colab": {
          "base_uri": "https://localhost:8080/",
          "height": 304
        },
        "outputId": "9406a645-3ec7-4c5e-bcce-00149de0b23f"
      },
      "execution_count": null,
      "outputs": [
        {
          "output_type": "display_data",
          "data": {
            "text/plain": [
              "<Figure size 1200x500 with 2 Axes>"
            ],
            "image/png": "[encoded data removed]"
          },
          "metadata": {}
        }
      ]
    }
  ]
}